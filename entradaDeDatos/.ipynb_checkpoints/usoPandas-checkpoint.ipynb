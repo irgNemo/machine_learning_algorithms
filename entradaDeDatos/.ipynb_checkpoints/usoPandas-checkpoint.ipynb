{
 "cells": [
  {
   "cell_type": "markdown",
   "metadata": {},
   "source": [
    "# Uso de pandas para manejo de entrada de datos"
   ]
  },
  {
   "cell_type": "markdown",
   "metadata": {},
   "source": [
    "## Importación de librerias"
   ]
  },
  {
   "cell_type": "code",
   "execution_count": 3,
   "metadata": {},
   "outputs": [],
   "source": [
    "import pandas as pd\n",
    "import matplotlib.pyplot as plt"
   ]
  },
  {
   "cell_type": "markdown",
   "metadata": {},
   "source": [
    "## Creación de Dataframes"
   ]
  },
  {
   "cell_type": "code",
   "execution_count": 4,
   "metadata": {},
   "outputs": [
    {
     "name": "stdout",
     "output_type": "stream",
     "text": [
      "   A1  A2  A3\n",
      "1   1   6  11\n",
      "2   2   7  12\n",
      "3   3   8  13\n",
      "4   4   9  14\n",
      "5   5  10  15\n"
     ]
    }
   ],
   "source": [
    "# Dos tipos de datos en pandas Series y Dataframes\n",
    "serie = pd.Series([1, 2, 3, 4, 5]) # Serie sin indices\n",
    "\n",
    "# Serie con indices predeterminados\n",
    "serie = pd.Series([1, 2, 3, 4, 5], index=['a', 'b', 'c', 'd', 'e']) \n",
    "\n",
    "# Creacion de un DataFrame con datos\n",
    "dataframe = pd.DataFrame({'A1':[1,2,3,4,5], 'A2':[6,7,8,9,10], 'A3':[11,12,13,14,15]})\n",
    "\n",
    "# Creacion de un DataFrame con datos y asignando indices, observe que cada vector representa una columna\n",
    "dataframe = pd.DataFrame({'A1':[1,2,3,4,5], 'A2':[6,7,8,9,10], 'A3':[11,12,13,14,15]}, index=[1, 2, 3, 4, 5])\n",
    "\n",
    "\n",
    "# Creacion de DataFrame con datos y columnas por separado, observe que cada vector representa una instancia.\n",
    "dataframe = pd.DataFrame([[1,6,11], [2,7,12], [3,8,13], [4,9,14], [5,10,15]], columns=['A1', 'A2', 'A3'], index=[1,2,3,4,5])\n",
    "\n",
    "print(dataframe)"
   ]
  },
  {
   "cell_type": "markdown",
   "metadata": {},
   "source": [
    "## Lectura de archivos que representan conjuntos de datos\n",
    "Abra el sitio de UCI Machine Learning repository y descarge dos conjunto datos, Iris plant y Heart disease"
   ]
  },
  {
   "cell_type": "code",
   "execution_count": 5,
   "metadata": {},
   "outputs": [
    {
     "name": "stdout",
     "output_type": "stream",
     "text": [
      "150\n",
      "5\n"
     ]
    }
   ],
   "source": [
    "# Lecturade un archivo de texto\n",
    "iris_df = pd.read_csv(\"datasets/iris.data\", header = None)\n",
    "\n",
    "# Se agrega una cabecera para mejor organizacion y no perder informacion\n",
    "iris_df.columns = ['sepal_length', 'sepal_width', 'petal_length', 'petal_width', 'class']\n",
    "\n",
    "# Dimension del DataFrame\n",
    "shape = iris_df.shape\n",
    "\n",
    "# Numerode filas\n",
    "num_filas = len(iris_df)\n",
    "num_filas = iris_df.shape[0]\n",
    "print(num_filas)\n",
    "\n",
    "# Numero de columnas\n",
    "num_columnas = len(iris_df.columns)\n",
    "num_columnas = iris_df.shape[1]\n",
    "print(num_columnas)\n"
   ]
  },
  {
   "cell_type": "markdown",
   "metadata": {},
   "source": [
    "## Seleccion de elementos"
   ]
  },
  {
   "cell_type": "code",
   "execution_count": 6,
   "metadata": {
    "scrolled": true
   },
   "outputs": [
    {
     "name": "stdout",
     "output_type": "stream",
     "text": [
      "     sepal_length  sepal_width  petal_length  petal_width\n",
      "0             5.1          3.5           1.4          0.2\n",
      "1             4.9          3.0           1.4          0.2\n",
      "2             4.7          3.2           1.3          0.2\n",
      "3             4.6          3.1           1.5          0.2\n",
      "4             5.0          3.6           1.4          0.2\n",
      "..            ...          ...           ...          ...\n",
      "145           6.7          3.0           5.2          2.3\n",
      "146           6.3          2.5           5.0          1.9\n",
      "147           6.5          3.0           5.2          2.0\n",
      "148           6.2          3.4           5.4          2.3\n",
      "149           5.9          3.0           5.1          1.8\n",
      "\n",
      "[150 rows x 4 columns]\n",
      "0         Iris-setosa\n",
      "1         Iris-setosa\n",
      "2         Iris-setosa\n",
      "3         Iris-setosa\n",
      "4         Iris-setosa\n",
      "            ...      \n",
      "145    Iris-virginica\n",
      "146    Iris-virginica\n",
      "147    Iris-virginica\n",
      "148    Iris-virginica\n",
      "149    Iris-virginica\n",
      "Name: class, Length: 150, dtype: object\n"
     ]
    }
   ],
   "source": [
    "# Seleccion dela columna sepal_width\n",
    "column = iris_df[\"sepal_width\"]\n",
    "#print(column)\n",
    "\n",
    "# Seleccion de la primera instancia\n",
    "primera_instancia = iris_df.head(1)\n",
    "\n",
    "# Seleccion de la ultima instancia\n",
    "ultima_instancia = iris_df.tail(1)\n",
    "\n",
    "# Seleccion de las primeras 50 instancias\n",
    "datos = iris_df[0:50]\n",
    "\n",
    "# Seleccion de todas las instancias con solo los atributos (sin la clase)\n",
    "datos = iris_df.iloc[:,:num_columnas - 1]\n",
    "print(datos)\n",
    "\n",
    "# Seleccion de la columna clase\n",
    "\n",
    "clase = iris_df['class']\n",
    "print(clase)"
   ]
  },
  {
   "cell_type": "markdown",
   "metadata": {},
   "source": [
    "## Vizualizacion de datos"
   ]
  },
  {
   "cell_type": "code",
   "execution_count": 7,
   "metadata": {},
   "outputs": [
    {
     "name": "stdout",
     "output_type": "stream",
     "text": [
      "       sepal_length  sepal_width  petal_length  petal_width\n",
      "count    150.000000   150.000000    150.000000   150.000000\n",
      "mean       5.843333     3.054000      3.758667     1.198667\n",
      "std        0.828066     0.433594      1.764420     0.763161\n",
      "min        4.300000     2.000000      1.000000     0.100000\n",
      "25%        5.100000     2.800000      1.600000     0.300000\n",
      "50%        5.800000     3.000000      4.350000     1.300000\n",
      "75%        6.400000     3.300000      5.100000     1.800000\n",
      "max        7.900000     4.400000      6.900000     2.500000\n"
     ]
    },
    {
     "data": {
      "text/plain": [
       "array([[<matplotlib.axes._subplots.AxesSubplot object at 0x7fb59aa8cc50>,\n",
       "        <matplotlib.axes._subplots.AxesSubplot object at 0x7fb59aabed90>,\n",
       "        <matplotlib.axes._subplots.AxesSubplot object at 0x7fb59aa73650>,\n",
       "        <matplotlib.axes._subplots.AxesSubplot object at 0x7fb59aa27e50>],\n",
       "       [<matplotlib.axes._subplots.AxesSubplot object at 0x7fb59a9e9690>,\n",
       "        <matplotlib.axes._subplots.AxesSubplot object at 0x7fb59a99be90>,\n",
       "        <matplotlib.axes._subplots.AxesSubplot object at 0x7fb59a95d6d0>,\n",
       "        <matplotlib.axes._subplots.AxesSubplot object at 0x7fb59a910ed0>],\n",
       "       [<matplotlib.axes._subplots.AxesSubplot object at 0x7fb59a91aa50>,\n",
       "        <matplotlib.axes._subplots.AxesSubplot object at 0x7fb59a8dc410>,\n",
       "        <matplotlib.axes._subplots.AxesSubplot object at 0x7fb59a8c8750>,\n",
       "        <matplotlib.axes._subplots.AxesSubplot object at 0x7fb59a87af50>],\n",
       "       [<matplotlib.axes._subplots.AxesSubplot object at 0x7fb59a83b790>,\n",
       "        <matplotlib.axes._subplots.AxesSubplot object at 0x7fb59a7edf90>,\n",
       "        <matplotlib.axes._subplots.AxesSubplot object at 0x7fb59a7b07d0>,\n",
       "        <matplotlib.axes._subplots.AxesSubplot object at 0x7fb59a760fd0>]],\n",
       "      dtype=object)"
      ]
     },
     "execution_count": 7,
     "metadata": {},
     "output_type": "execute_result"
    }
   ],
   "source": [
    "## Estadisticas generales\n",
    "five_number_summary = iris_df.describe()\n",
    "print(five_number_summary)\n",
    "\n",
    "sepal_length_max = iris_df[['sepal_width', 'sepal_length']].max()\n",
    "#print(sepal_length_max)\n",
    "\n",
    "## Grafica de lineas\n",
    "iris_df.plot(kind='line')\n",
    "iris_df['sepal_length'].plot(kind='line')\n",
    "\n",
    "## Histograma\n",
    "iris_df['sepal_length'].plot(kind='hist')\n",
    "iris_df[['sepal_width', 'sepal_length']].plot(kind=\"hist\", bins=10)\n",
    "iris_df[['sepal_width', 'sepal_length']].hist(bins=10)\n",
    "\n",
    "## Grafica de pastel\n",
    "iris_df['sepal_width'].plot(kind='pie')\n",
    "\n",
    "## Grafica de barras y bigotes\n",
    "iris_df[['sepal_width', 'sepal_length']].plot(kind='box', grid=True)\n",
    "iris_df.boxplot(by='class', figsize=(10,10))\n",
    "\n",
    "\n",
    "## Grafica de dispersion\n",
    "iris_df[['sepal_length', 'sepal_width']].plot(kind='scatter', x='sepal_length', y='sepal_width')\n",
    "iris_df.plot.scatter(x='petal_length', y='petal_width')\n",
    "\n",
    "# Arreglo de matrices de dispersión\n",
    "pd.plotting.scatter_matrix(iris_df)"
   ]
  }
 ],
 "metadata": {
  "kernelspec": {
   "display_name": "Python 3",
   "language": "python",
   "name": "python3"
  },
  "language_info": {
   "codemirror_mode": {
    "name": "ipython",
    "version": 3
   },
   "file_extension": ".py",
   "mimetype": "text/x-python",
   "name": "python",
   "nbconvert_exporter": "python",
   "pygments_lexer": "ipython3",
   "version": "3.7.4"
  }
 },
 "nbformat": 4,
 "nbformat_minor": 5
}
